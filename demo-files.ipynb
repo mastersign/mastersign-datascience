{
 "cells": [
  {
   "cell_type": "markdown",
   "metadata": {},
   "source": [
    "# Demo for `mastersign.datascience.files`"
   ]
  },
  {
   "cell_type": "code",
   "execution_count": 1,
   "metadata": {},
   "outputs": [],
   "source": [
    "import os\n",
    "import numpy as np\n",
    "import pandas as pd"
   ]
  },
  {
   "cell_type": "markdown",
   "metadata": {},
   "source": [
    "Import the `mastersign.datascience.files` package."
   ]
  },
  {
   "cell_type": "code",
   "execution_count": 2,
   "metadata": {},
   "outputs": [],
   "source": [
    "from mastersign.datascience import files as io"
   ]
  },
  {
   "cell_type": "markdown",
   "metadata": {},
   "source": [
    "Create demo data."
   ]
  },
  {
   "cell_type": "code",
   "execution_count": 3,
   "metadata": {},
   "outputs": [],
   "source": [
    "data = pd.DataFrame(\n",
    "    {\n",
    "        \"t\": np.arange(0.0, 100.0, 0.1),\n",
    "        \"group\": np.random.choice(['A', 'B', 'C'], 1000, p=[0.5, 0.2, 0.3]),\n",
    "        \"value_a\": np.random.normal(size=1000) * 256,\n",
    "        \"value_b\": np.random.gamma(2, size=1000),\n",
    "        \"value_c\": np.random.laplace(size=1000),\n",
    "    })\n",
    "data = data.astype({'t': 'float32', 'group': 'category', 'value_a': 'uint8'})"
   ]
  },
  {
   "cell_type": "code",
   "execution_count": 4,
   "metadata": {},
   "outputs": [
    {
     "name": "stdout",
     "output_type": "stream",
     "text": [
      "<class 'pandas.core.frame.DataFrame'>\n",
      "RangeIndex: 1000 entries, 0 to 999\n",
      "Data columns (total 5 columns):\n",
      "t          1000 non-null float32\n",
      "group      1000 non-null category\n",
      "value_a    1000 non-null uint8\n",
      "value_b    1000 non-null float64\n",
      "value_c    1000 non-null float64\n",
      "dtypes: category(1), float32(1), float64(2), uint8(1)\n",
      "memory usage: 21.7 KB\n"
     ]
    }
   ],
   "source": [
    "data.info()"
   ]
  },
  {
   "cell_type": "code",
   "execution_count": 5,
   "metadata": {},
   "outputs": [
    {
     "data": {
      "text/html": [
       "<div>\n",
       "<style scoped>\n",
       "    .dataframe tbody tr th:only-of-type {\n",
       "        vertical-align: middle;\n",
       "    }\n",
       "\n",
       "    .dataframe tbody tr th {\n",
       "        vertical-align: top;\n",
       "    }\n",
       "\n",
       "    .dataframe thead th {\n",
       "        text-align: right;\n",
       "    }\n",
       "</style>\n",
       "<table border=\"1\" class=\"dataframe\">\n",
       "  <thead>\n",
       "    <tr style=\"text-align: right;\">\n",
       "      <th></th>\n",
       "      <th>t</th>\n",
       "      <th>group</th>\n",
       "      <th>value_a</th>\n",
       "      <th>value_b</th>\n",
       "      <th>value_c</th>\n",
       "    </tr>\n",
       "  </thead>\n",
       "  <tbody>\n",
       "    <tr>\n",
       "      <th>0</th>\n",
       "      <td>0.0</td>\n",
       "      <td>C</td>\n",
       "      <td>202</td>\n",
       "      <td>1.209308</td>\n",
       "      <td>2.226934</td>\n",
       "    </tr>\n",
       "    <tr>\n",
       "      <th>1</th>\n",
       "      <td>0.1</td>\n",
       "      <td>C</td>\n",
       "      <td>166</td>\n",
       "      <td>1.749777</td>\n",
       "      <td>-1.946816</td>\n",
       "    </tr>\n",
       "    <tr>\n",
       "      <th>2</th>\n",
       "      <td>0.2</td>\n",
       "      <td>B</td>\n",
       "      <td>140</td>\n",
       "      <td>6.080738</td>\n",
       "      <td>-0.686487</td>\n",
       "    </tr>\n",
       "    <tr>\n",
       "      <th>3</th>\n",
       "      <td>0.3</td>\n",
       "      <td>A</td>\n",
       "      <td>225</td>\n",
       "      <td>4.098558</td>\n",
       "      <td>-0.531737</td>\n",
       "    </tr>\n",
       "    <tr>\n",
       "      <th>4</th>\n",
       "      <td>0.4</td>\n",
       "      <td>A</td>\n",
       "      <td>7</td>\n",
       "      <td>0.799151</td>\n",
       "      <td>0.183037</td>\n",
       "    </tr>\n",
       "  </tbody>\n",
       "</table>\n",
       "</div>"
      ],
      "text/plain": [
       "     t group  value_a   value_b   value_c\n",
       "0  0.0     C      202  1.209308  2.226934\n",
       "1  0.1     C      166  1.749777 -1.946816\n",
       "2  0.2     B      140  6.080738 -0.686487\n",
       "3  0.3     A      225  4.098558 -0.531737\n",
       "4  0.4     A        7  0.799151  0.183037"
      ]
     },
     "execution_count": 5,
     "metadata": {},
     "output_type": "execute_result"
    }
   ],
   "source": [
    "data.head()"
   ]
  },
  {
   "cell_type": "markdown",
   "metadata": {},
   "source": [
    "## `write_parquet()`"
   ]
  },
  {
   "cell_type": "markdown",
   "metadata": {},
   "source": [
    "Write a DataFrame into a compressed Parquet file."
   ]
  },
  {
   "cell_type": "code",
   "execution_count": 6,
   "metadata": {},
   "outputs": [],
   "source": [
    "io.write_parquet(data, 'files-demo-1.parq', compress=True)"
   ]
  },
  {
   "cell_type": "code",
   "execution_count": 7,
   "metadata": {},
   "outputs": [
    {
     "name": "stdout",
     "output_type": "stream",
     "text": [
      "File size: 20.5 KB\n"
     ]
    }
   ],
   "source": [
    "print(f\"File size: {os.stat('files-demo-1.parq').st_size / 1024.0 :.1f} KB\")"
   ]
  },
  {
   "cell_type": "markdown",
   "metadata": {},
   "source": [
    "## `read_parquet()`"
   ]
  },
  {
   "cell_type": "markdown",
   "metadata": {},
   "source": [
    "Read the data from a Parquet file."
   ]
  },
  {
   "cell_type": "code",
   "execution_count": 8,
   "metadata": {},
   "outputs": [],
   "source": [
    "df = io.read_parquet('files-demo-1.parq')"
   ]
  },
  {
   "cell_type": "code",
   "execution_count": 9,
   "metadata": {},
   "outputs": [
    {
     "name": "stdout",
     "output_type": "stream",
     "text": [
      "<class 'pandas.core.frame.DataFrame'>\n",
      "RangeIndex: 1000 entries, 0 to 999\n",
      "Data columns (total 5 columns):\n",
      "t          1000 non-null float32\n",
      "group      1000 non-null category\n",
      "value_a    1000 non-null uint8\n",
      "value_b    1000 non-null float64\n",
      "value_c    1000 non-null float64\n",
      "dtypes: category(1), float32(1), float64(2), uint8(1)\n",
      "memory usage: 21.6 KB\n"
     ]
    }
   ],
   "source": [
    "df.info()"
   ]
  },
  {
   "cell_type": "code",
   "execution_count": 10,
   "metadata": {},
   "outputs": [
    {
     "data": {
      "text/html": [
       "<div>\n",
       "<style scoped>\n",
       "    .dataframe tbody tr th:only-of-type {\n",
       "        vertical-align: middle;\n",
       "    }\n",
       "\n",
       "    .dataframe tbody tr th {\n",
       "        vertical-align: top;\n",
       "    }\n",
       "\n",
       "    .dataframe thead th {\n",
       "        text-align: right;\n",
       "    }\n",
       "</style>\n",
       "<table border=\"1\" class=\"dataframe\">\n",
       "  <thead>\n",
       "    <tr style=\"text-align: right;\">\n",
       "      <th></th>\n",
       "      <th>t</th>\n",
       "      <th>group</th>\n",
       "      <th>value_a</th>\n",
       "      <th>value_b</th>\n",
       "      <th>value_c</th>\n",
       "    </tr>\n",
       "  </thead>\n",
       "  <tbody>\n",
       "    <tr>\n",
       "      <th>0</th>\n",
       "      <td>0.0</td>\n",
       "      <td>C</td>\n",
       "      <td>202</td>\n",
       "      <td>1.209308</td>\n",
       "      <td>2.226934</td>\n",
       "    </tr>\n",
       "    <tr>\n",
       "      <th>1</th>\n",
       "      <td>0.1</td>\n",
       "      <td>C</td>\n",
       "      <td>166</td>\n",
       "      <td>1.749777</td>\n",
       "      <td>-1.946816</td>\n",
       "    </tr>\n",
       "    <tr>\n",
       "      <th>2</th>\n",
       "      <td>0.2</td>\n",
       "      <td>B</td>\n",
       "      <td>140</td>\n",
       "      <td>6.080738</td>\n",
       "      <td>-0.686487</td>\n",
       "    </tr>\n",
       "    <tr>\n",
       "      <th>3</th>\n",
       "      <td>0.3</td>\n",
       "      <td>A</td>\n",
       "      <td>225</td>\n",
       "      <td>4.098558</td>\n",
       "      <td>-0.531737</td>\n",
       "    </tr>\n",
       "    <tr>\n",
       "      <th>4</th>\n",
       "      <td>0.4</td>\n",
       "      <td>A</td>\n",
       "      <td>7</td>\n",
       "      <td>0.799151</td>\n",
       "      <td>0.183037</td>\n",
       "    </tr>\n",
       "  </tbody>\n",
       "</table>\n",
       "</div>"
      ],
      "text/plain": [
       "     t group  value_a   value_b   value_c\n",
       "0  0.0     C      202  1.209308  2.226934\n",
       "1  0.1     C      166  1.749777 -1.946816\n",
       "2  0.2     B      140  6.080738 -0.686487\n",
       "3  0.3     A      225  4.098558 -0.531737\n",
       "4  0.4     A        7  0.799151  0.183037"
      ]
     },
     "execution_count": 10,
     "metadata": {},
     "output_type": "execute_result"
    }
   ],
   "source": [
    "df.head()"
   ]
  },
  {
   "cell_type": "markdown",
   "metadata": {},
   "source": [
    "Read only a subset of columns and specify an index column."
   ]
  },
  {
   "cell_type": "code",
   "execution_count": 11,
   "metadata": {},
   "outputs": [],
   "source": [
    "df = io.read_parquet('files-demo-1.parq',\n",
    "                     columns=['t', 'group', 'value_a', 'value_c'],\n",
    "                     index='t')"
   ]
  },
  {
   "cell_type": "code",
   "execution_count": 12,
   "metadata": {},
   "outputs": [
    {
     "name": "stdout",
     "output_type": "stream",
     "text": [
      "<class 'pandas.core.frame.DataFrame'>\n",
      "Float64Index: 1000 entries, 0.0 to 99.9000015258789\n",
      "Data columns (total 3 columns):\n",
      "group      1000 non-null category\n",
      "value_a    1000 non-null uint8\n",
      "value_c    1000 non-null float64\n",
      "dtypes: category(1), float64(1), uint8(1)\n",
      "memory usage: 17.6 KB\n"
     ]
    }
   ],
   "source": [
    "df.info()"
   ]
  },
  {
   "cell_type": "code",
   "execution_count": 13,
   "metadata": {},
   "outputs": [
    {
     "data": {
      "text/html": [
       "<div>\n",
       "<style scoped>\n",
       "    .dataframe tbody tr th:only-of-type {\n",
       "        vertical-align: middle;\n",
       "    }\n",
       "\n",
       "    .dataframe tbody tr th {\n",
       "        vertical-align: top;\n",
       "    }\n",
       "\n",
       "    .dataframe thead th {\n",
       "        text-align: right;\n",
       "    }\n",
       "</style>\n",
       "<table border=\"1\" class=\"dataframe\">\n",
       "  <thead>\n",
       "    <tr style=\"text-align: right;\">\n",
       "      <th></th>\n",
       "      <th>group</th>\n",
       "      <th>value_a</th>\n",
       "      <th>value_c</th>\n",
       "    </tr>\n",
       "    <tr>\n",
       "      <th>t</th>\n",
       "      <th></th>\n",
       "      <th></th>\n",
       "      <th></th>\n",
       "    </tr>\n",
       "  </thead>\n",
       "  <tbody>\n",
       "    <tr>\n",
       "      <th>0.0</th>\n",
       "      <td>C</td>\n",
       "      <td>202</td>\n",
       "      <td>2.226934</td>\n",
       "    </tr>\n",
       "    <tr>\n",
       "      <th>0.1</th>\n",
       "      <td>C</td>\n",
       "      <td>166</td>\n",
       "      <td>-1.946816</td>\n",
       "    </tr>\n",
       "    <tr>\n",
       "      <th>0.2</th>\n",
       "      <td>B</td>\n",
       "      <td>140</td>\n",
       "      <td>-0.686487</td>\n",
       "    </tr>\n",
       "    <tr>\n",
       "      <th>0.3</th>\n",
       "      <td>A</td>\n",
       "      <td>225</td>\n",
       "      <td>-0.531737</td>\n",
       "    </tr>\n",
       "    <tr>\n",
       "      <th>0.4</th>\n",
       "      <td>A</td>\n",
       "      <td>7</td>\n",
       "      <td>0.183037</td>\n",
       "    </tr>\n",
       "  </tbody>\n",
       "</table>\n",
       "</div>"
      ],
      "text/plain": [
       "    group  value_a   value_c\n",
       "t                           \n",
       "0.0     C      202  2.226934\n",
       "0.1     C      166 -1.946816\n",
       "0.2     B      140 -0.686487\n",
       "0.3     A      225 -0.531737\n",
       "0.4     A        7  0.183037"
      ]
     },
     "execution_count": 13,
     "metadata": {},
     "output_type": "execute_result"
    }
   ],
   "source": [
    "df.head()"
   ]
  }
 ],
 "metadata": {
  "kernelspec": {
   "display_name": "Python 3",
   "language": "python",
   "name": "python3"
  },
  "language_info": {
   "codemirror_mode": {
    "name": "ipython",
    "version": 3
   },
   "file_extension": ".py",
   "mimetype": "text/x-python",
   "name": "python",
   "nbconvert_exporter": "python",
   "pygments_lexer": "ipython3",
   "version": "3.6.8"
  }
 },
 "nbformat": 4,
 "nbformat_minor": 2
}
